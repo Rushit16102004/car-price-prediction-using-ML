{
 "cells": [
  {
   "cell_type": "code",
   "execution_count": 29,
   "id": "f71f5860-c6e5-4e35-b27c-a9b63579f9a1",
   "metadata": {},
   "outputs": [
    {
     "name": "stdout",
     "output_type": "stream",
     "text": [
      "Prediction for new data: [29057.51075397]\n"
     ]
    }
   ],
   "source": [
    "import pandas as pd\n",
    "import joblib\n",
    "\n",
    "# --- Load the fitted pipeline ---\n",
    "pipeline = joblib.load('random_forest_pipeline.pkl')\n",
    "\n",
    "# --- Example new data (can include NaNs, pipeline imputes automatically) ---\n",
    "new_data = pd.DataFrame([{\n",
    "    'Engine HP': 200,\n",
    "    'Engine Cylinders': 6,\n",
    "    'Number of Doors': 2,\n",
    "    'highway MPG': 38,\n",
    "    'city mpg': 20,  # Missing value, imputer will handle it\n",
    "    'Popularity': 5000,\n",
    "    'Year': 2018,\n",
    "    'Engine Fuel Type': 'regular unleaded',\n",
    "    'Transmission Type': 'automatic',\n",
    "    'Driven_Wheels': 'all wheel drive',\n",
    "    'Vehicle Size': 'midsize',\n",
    "    'Vehicle Style': 'sedan'\n",
    "}])\n",
    "\n",
    "# --- Make prediction ---\n",
    "prediction = pipeline.predict(new_data)\n",
    "print(\"Prediction for new data:\", prediction)\n"
   ]
  },
  {
   "cell_type": "code",
   "execution_count": null,
   "id": "fbf22d08-c919-4dbc-9ee4-432d4eaffc9d",
   "metadata": {},
   "outputs": [],
   "source": []
  },
  {
   "cell_type": "code",
   "execution_count": null,
   "id": "ea16792d-8d6c-4fbd-a498-addffe5e7b66",
   "metadata": {},
   "outputs": [],
   "source": []
  }
 ],
 "metadata": {
  "kernelspec": {
   "display_name": "Python 3 (ipykernel)",
   "language": "python",
   "name": "python3"
  },
  "language_info": {
   "codemirror_mode": {
    "name": "ipython",
    "version": 3
   },
   "file_extension": ".py",
   "mimetype": "text/x-python",
   "name": "python",
   "nbconvert_exporter": "python",
   "pygments_lexer": "ipython3",
   "version": "3.11.9"
  }
 },
 "nbformat": 4,
 "nbformat_minor": 5
}
